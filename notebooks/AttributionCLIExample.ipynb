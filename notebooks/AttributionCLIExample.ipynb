{
 "cells": [
  {
   "cell_type": "markdown",
   "id": "d21b6d22-f855-45b6-bdcf-885928aa6bc2",
   "metadata": {},
   "source": [
    "# The Attribution CLI\n",
    "\n",
    "We could also run the steps from the `AttributionPackageExample.ipynb` using the CLI (Command Line Interface) which will run the requested functions from the package directly in the terminal and save it to a file. You could run a `climattr --help` to get the list of functions:\n",
    "\n",
    "```\n",
    "usage: climattr [-h]\n",
    "                {filter-area,filter-time,attr-metrics,attr-plot,qq-plot,validation-plot,exploratory-plot,xclim-indice,scale}\n",
    "                ...\n",
    "\n",
    "Run Extreme Event Attribution\n",
    "\n",
    "positional arguments:\n",
    "  {filter-area,filter-time,attr-metrics,attr-plot,qq-plot,validation-plot,exploratory-plot,xclim-indice,scale}\n",
    "    filter-area         Function used to filter the dataset based on a spatial filter\n",
    "    filter-time         Function used to filter the dataset based on initial and final time\n",
    "    attr-metrics        Function used calculate the attribution metrics (PR, RP, FAR)\n",
    "    attr-plot           Function used to plot attribution histogram and RP\n",
    "    qq-plot             Function used for QQ-Plot against theoretical quantiles\n",
    "    validation-plot     Function used for validation plot of OBS and ALL\n",
    "    exploratory-plot    Function used to explore the plots for OBS\n",
    "    xclim-indice        Function used to wrap xclim library and calculate the indice\n",
    "    scale               Function used to scale data by a given climatology (add or divide)\n",
    "\n",
    "options:\n",
    "  -h, --help            show this help message and exit\n",
    "```\n",
    "\n",
    "Also if you ask for the helper for a specific function:\n",
    "\n",
    "```\n",
    "usage: climattr attr-metrics [-h] -a ALL -n NAT -o OFILE -d {multi-file,single-file} -v VARIABLE [-f FIT_FUNCTION]\n",
    "                             [-t THRESH] [--direction {descending,ascending}]\n",
    "\n",
    "options:\n",
    "  -h, --help            show this help message and exit\n",
    "  -a ALL, --all ALL     Path to the 'all' dataset files\n",
    "  -n NAT, --nat NAT     Path to the 'nat' dataset files\n",
    "  -o OFILE, --ofile OFILE\n",
    "                        Path to the output dataset\n",
    "  -d {multi-file,single-file}, --data-source {multi-file,single-file}\n",
    "                        Specify the data source type: 'multi-file' or 'single-file'\n",
    "  -v VARIABLE, --variable VARIABLE\n",
    "                        Variable name to use for attribution metrics (default: 'tas')\n",
    "  -f FIT_FUNCTION, --fit_function FIT_FUNCTION\n",
    "                        Scipy fit function to use for attribution metrics (default: 'norm')\n",
    "  -t THRESH, --thresh THRESH\n",
    "                        Threshold value for the attribution metrics (default: 301)\n",
    "  --direction {descending,ascending}\n",
    "                        Direction for the bootstrap ordering that will be used to calculate RP\n",
    "```\n",
    "\n",
    "Replicating what we have on the `AttributionPackageExample.ipynb` we have:"
   ]
  },
  {
   "cell_type": "code",
   "execution_count": null,
   "id": "2107294f-3ded-4dfb-b76b-0243a78914d6",
   "metadata": {},
   "outputs": [],
   "source": [
    "# Preprocessing OBS\n",
    "!climattr filter-time --ifile '/media/rafael/Rafael/cmip6/jasmin/era5/amazon/era5_dataset.1981.2023.daily.t2m.nc' -d single-file -v t2m --itime '1981-01-01' --etime '2014-02-28' --months 12 1 2 --ofile obs1.nc\n",
    "!climattr filter-area --ifile obs1.nc -d single-file -v t2m --mask /home/rafael/Downloads/amazonas.shp --reduce mean --ofile obs2.nc\n",
    "!climattr xclim-indice --ifile obs2.nc -d single-file --xclim-function tx_max -k tasmax=\"t2m\" freq=\"YE-NOV\" --ofile obs3.nc\n",
    "\n",
    "# Plot historical data exploratory plot\n",
    "!climattr exploratory-plot --i obs3.nc -d single-file -v tx_max -f genextreme -y 2003 --ofile exploratory.png"
   ]
  },
  {
   "cell_type": "code",
   "execution_count": null,
   "id": "b662aa5d-ed81-441c-8d34-fc5ead5839ef",
   "metadata": {},
   "outputs": [],
   "source": [
    "# Preprocessing ALL\n",
    "!climattr filter-time --ifile '/media/rafael/Rafael/cmip6/jasmin/amazon/time/tasmax_day_IPSL-CM6A-LR_historical_*.nc' -d multi-file -v tasmax  --itime '1981-01-01' --etime '2014-02-28' --months 12 1 2 --ofile all1.nc\n",
    "!climattr filter-area --ifile all1.nc -d single-file -v tasmax --mask /home/rafael/Downloads/amazonas.shp --reduce mean --ofile all2.nc\n",
    "!climattr xclim-indice --ifile all2.nc -d single-file --xclim-function tx_max -k tasmax=\"tasmax\" freq=\"YE-NOV\" --ofile all3.nc\n",
    "\n",
    "# QQ-Plot for validation\n",
    "!climattr qq-plot --all all3.nc --obs obs3.nc -d single-file -v tx_max -f genextreme --ofile qq_plot.png \n",
    "\n",
    "# Histogram and 2 sample QQ-Plot for validation\n",
    "!climattr validation-plot --all all3.nc --obs obs3.nc -d single-file -v tx_max -f genextreme --ofile validation_plot.png "
   ]
  },
  {
   "cell_type": "code",
   "execution_count": null,
   "id": "a1ba02e9-6bb7-41d7-972b-a7eceab6f148",
   "metadata": {},
   "outputs": [],
   "source": [
    "# Scale data\n",
    "!climattr scale --ifile obs3.nc --clim obs3.nc -d single-file -v tx_max --idate '1981-01-01' --edate '2010-12-31' --method add --ofile obs4.nc\n",
    "!climattr scale --ifile all3.nc --clim all3.nc -d single-file -v tx_max --idate '1981-01-01' --edate '2010-12-31' --method add --ofile all4.nc\n",
    "\n",
    "# plot again the validation plot\n",
    "!climattr validation-plot --all all4.nc --obs obs4.nc -d single-file -v tx_max -f genextreme --ofile validation_plot_scaled.png "
   ]
  },
  {
   "cell_type": "code",
   "execution_count": null,
   "id": "ec9877f0-ee8b-4928-b0ab-1311f830449f",
   "metadata": {},
   "outputs": [],
   "source": [
    "# Preprocessing NAT\n",
    "!climattr filter-time --ifile '/media/rafael/Rafael/cmip6/jasmin/amazon/time/tasmax_day_IPSL-CM6A-LR_hist-nat_*.nc' -d multi-file -v tasmax  --itime '1981-01-01' --etime '2014-02-28' --months 12 1 2 --ofile nat1.nc\n",
    "!climattr filter-area --ifile nat1.nc -d single-file -v tasmax --mask /home/rafael/Downloads/amazonas.shp --reduce mean --ofile nat2.nc\n",
    "!climattr xclim-indice --ifile nat2.nc -d single-file --xclim-function tx_max -k tasmax=\"tasmax\" freq=\"YE-NOV\" --ofile nat3.nc\n",
    "\n",
    "# Scale NAT\n",
    "!climattr scale --ifile nat3.nc --clim all3.nc -d single-file -v tx_max --idate '1981-01-01' --edate '2010-12-31' --method add --ofile nat4.nc"
   ]
  },
  {
   "cell_type": "code",
   "execution_count": null,
   "id": "2820f663-d3a0-42f1-9d83-4ee3a947456e",
   "metadata": {},
   "outputs": [],
   "source": [
    "# Attribution plot\n",
    "!climattr attr-plot --all all4.nc --nat nat4.nc -d single-file -v tx_max -f genextreme -t 1.545 --direction descending --ofile attribution_plot.png\n",
    "\n",
    "# Attribution metrics\n",
    "!climattr attr-metrics --all all4.nc --nat nat4.nc -d single-file -v tx_max -f genextreme -t 1.545 --direction descending --ofile attribution_metrics.csv"
   ]
  },
  {
   "cell_type": "code",
   "execution_count": null,
   "id": "99e6739a-871a-4d3e-b4d7-113e04ffa9f6",
   "metadata": {},
   "outputs": [],
   "source": []
  }
 ],
 "metadata": {
  "kernelspec": {
   "display_name": "Python 3 (ipykernel)",
   "language": "python",
   "name": "python3"
  },
  "language_info": {
   "codemirror_mode": {
    "name": "ipython",
    "version": 3
   },
   "file_extension": ".py",
   "mimetype": "text/x-python",
   "name": "python",
   "nbconvert_exporter": "python",
   "pygments_lexer": "ipython3",
   "version": "3.10.14"
  }
 },
 "nbformat": 4,
 "nbformat_minor": 5
}
